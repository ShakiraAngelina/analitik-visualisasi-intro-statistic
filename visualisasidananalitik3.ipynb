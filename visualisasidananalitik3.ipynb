{
 "cells": [
  {
   "cell_type": "code",
   "execution_count": 36,
   "id": "6de75a6f-0079-41a4-8339-33caa12d2a2b",
   "metadata": {},
   "outputs": [
    {
     "data": {
      "text/plain": [
       "<Figure size 1000x800 with 0 Axes>"
      ]
     },
     "execution_count": 36,
     "metadata": {},
     "output_type": "execute_result"
    },
    {
     "data": {
      "text/plain": [
       "<Figure size 1000x800 with 0 Axes>"
      ]
     },
     "metadata": {},
     "output_type": "display_data"
    }
   ],
   "source": [
    "import numpy as np\n",
    "import pandas as pd\n",
    "import matplotlib.pyplot as plt\n",
    "import seaborn as sns\n",
    "import scipy.stats as stats\n",
    "from sklearn import datasets\n",
    "from scipy.stats import uniform\n",
    "from scipy.stats import binom\n",
    "\n",
    "plt.figure(figsize=(10, 8))"
   ]
  },
  {
   "cell_type": "code",
   "execution_count": 4,
   "id": "52dde119-34bd-4468-b202-762b04d655b4",
   "metadata": {},
   "outputs": [],
   "source": [
    "data_amir = pd.read_csv('dataset/amir_deals.csv', index_col=0)"
   ]
  },
  {
   "cell_type": "code",
   "execution_count": 5,
   "id": "5c7a863d-609a-453b-84f3-020dd228ab0c",
   "metadata": {},
   "outputs": [
    {
     "data": {
      "text/html": [
       "<div>\n",
       "<style scoped>\n",
       "    .dataframe tbody tr th:only-of-type {\n",
       "        vertical-align: middle;\n",
       "    }\n",
       "\n",
       "    .dataframe tbody tr th {\n",
       "        vertical-align: top;\n",
       "    }\n",
       "\n",
       "    .dataframe thead th {\n",
       "        text-align: right;\n",
       "    }\n",
       "</style>\n",
       "<table border=\"1\" class=\"dataframe\">\n",
       "  <thead>\n",
       "    <tr style=\"text-align: right;\">\n",
       "      <th></th>\n",
       "      <th>product</th>\n",
       "      <th>client</th>\n",
       "      <th>status</th>\n",
       "      <th>amount</th>\n",
       "      <th>num_users</th>\n",
       "    </tr>\n",
       "  </thead>\n",
       "  <tbody>\n",
       "    <tr>\n",
       "      <th>1</th>\n",
       "      <td>Product F</td>\n",
       "      <td>Current</td>\n",
       "      <td>Won</td>\n",
       "      <td>7389.52</td>\n",
       "      <td>19</td>\n",
       "    </tr>\n",
       "    <tr>\n",
       "      <th>2</th>\n",
       "      <td>Product C</td>\n",
       "      <td>New</td>\n",
       "      <td>Won</td>\n",
       "      <td>4493.01</td>\n",
       "      <td>43</td>\n",
       "    </tr>\n",
       "    <tr>\n",
       "      <th>3</th>\n",
       "      <td>Product B</td>\n",
       "      <td>New</td>\n",
       "      <td>Won</td>\n",
       "      <td>5738.09</td>\n",
       "      <td>87</td>\n",
       "    </tr>\n",
       "    <tr>\n",
       "      <th>4</th>\n",
       "      <td>Product I</td>\n",
       "      <td>Current</td>\n",
       "      <td>Won</td>\n",
       "      <td>2591.24</td>\n",
       "      <td>83</td>\n",
       "    </tr>\n",
       "    <tr>\n",
       "      <th>5</th>\n",
       "      <td>Product E</td>\n",
       "      <td>Current</td>\n",
       "      <td>Won</td>\n",
       "      <td>6622.97</td>\n",
       "      <td>17</td>\n",
       "    </tr>\n",
       "  </tbody>\n",
       "</table>\n",
       "</div>"
      ],
      "text/plain": [
       "     product   client status   amount  num_users\n",
       "1  Product F  Current    Won  7389.52         19\n",
       "2  Product C      New    Won  4493.01         43\n",
       "3  Product B      New    Won  5738.09         87\n",
       "4  Product I  Current    Won  2591.24         83\n",
       "5  Product E  Current    Won  6622.97         17"
      ]
     },
     "execution_count": 5,
     "metadata": {},
     "output_type": "execute_result"
    }
   ],
   "source": [
    "data_amir.head()"
   ]
  },
  {
   "cell_type": "code",
   "execution_count": 7,
   "id": "659b09c8-ae62-46f6-b544-cf91a39476d6",
   "metadata": {},
   "outputs": [
    {
     "name": "stdout",
     "output_type": "stream",
     "text": [
      "product\n",
      "Product A    23\n",
      "Product B    62\n",
      "Product C    15\n",
      "Product D    40\n",
      "Product E     5\n",
      "Product F    11\n",
      "Product G     2\n",
      "Product H     8\n",
      "Product I     7\n",
      "Product J     2\n",
      "Product N     3\n",
      "dtype: int64\n",
      "product\n",
      "Product A    0.129213\n",
      "Product B    0.348315\n",
      "Product C    0.084270\n",
      "Product D    0.224719\n",
      "Product E    0.028090\n",
      "Product F    0.061798\n",
      "Product G    0.011236\n",
      "Product H    0.044944\n",
      "Product I    0.039326\n",
      "Product J    0.011236\n",
      "Product N    0.016854\n",
      "dtype: float64\n"
     ]
    }
   ],
   "source": [
    "counts_alternative = data_amir.groupby('product').size()\n",
    "print(counts_alternative)\n",
    "\n",
    "probs_alternative = counts_alternative / data_amir.shape[0]\n",
    "print(probs_alternative)"
   ]
  },
  {
   "cell_type": "code",
   "execution_count": 8,
   "id": "816f4c0f-1d3e-4619-a5b7-f2b215bbfab8",
   "metadata": {},
   "outputs": [
    {
     "name": "stdout",
     "output_type": "stream",
     "text": [
      "       product   client status   amount  num_users\n",
      "128  Product B  Current    Won  2070.25          7\n",
      "149  Product D  Current    Won  3485.48         52\n",
      "78   Product B  Current    Won  6252.30         27\n",
      "105  Product D  Current    Won  4110.98         39\n",
      "167  Product C      New   Lost  3779.86         11\n"
     ]
    }
   ],
   "source": [
    "np.random.seed(24)\n",
    "\n",
    "sample = data_amir.sample(n=5, replace=False)\n",
    "print(sample)"
   ]
  },
  {
   "cell_type": "code",
   "execution_count": 9,
   "id": "0b077a8f-c030-46d3-8859-7f26316c245e",
   "metadata": {},
   "outputs": [
    {
     "name": "stdout",
     "output_type": "stream",
     "text": [
      "       product   client status   amount  num_users\n",
      "163  Product D  Current    Won  6755.66         59\n",
      "132  Product B  Current    Won  6872.29         25\n",
      "88   Product C  Current    Won  3579.63          3\n",
      "146  Product A  Current    Won  4682.94         63\n",
      "146  Product A  Current    Won  4682.94         63\n"
     ]
    }
   ],
   "source": [
    "np.random.seed(24)\n",
    "\n",
    "sample = data_amir.sample(n=5, replace=True)\n",
    "print(sample)"
   ]
  },
  {
   "cell_type": "code",
   "execution_count": 12,
   "id": "4f7fee01-61d3-4b83-8f9c-a9e8612364b6",
   "metadata": {},
   "outputs": [],
   "source": [
    "data_resto = pd.read_csv('dataset/restaurant_groups.csv')"
   ]
  },
  {
   "cell_type": "code",
   "execution_count": 13,
   "id": "a6199c65-9084-41b7-a96a-f9137dd76574",
   "metadata": {},
   "outputs": [
    {
     "data": {
      "text/html": [
       "<div>\n",
       "<style scoped>\n",
       "    .dataframe tbody tr th:only-of-type {\n",
       "        vertical-align: middle;\n",
       "    }\n",
       "\n",
       "    .dataframe tbody tr th {\n",
       "        vertical-align: top;\n",
       "    }\n",
       "\n",
       "    .dataframe thead th {\n",
       "        text-align: right;\n",
       "    }\n",
       "</style>\n",
       "<table border=\"1\" class=\"dataframe\">\n",
       "  <thead>\n",
       "    <tr style=\"text-align: right;\">\n",
       "      <th></th>\n",
       "      <th>group_id</th>\n",
       "      <th>group_size</th>\n",
       "    </tr>\n",
       "  </thead>\n",
       "  <tbody>\n",
       "    <tr>\n",
       "      <th>0</th>\n",
       "      <td>A</td>\n",
       "      <td>2</td>\n",
       "    </tr>\n",
       "    <tr>\n",
       "      <th>1</th>\n",
       "      <td>B</td>\n",
       "      <td>4</td>\n",
       "    </tr>\n",
       "    <tr>\n",
       "      <th>2</th>\n",
       "      <td>C</td>\n",
       "      <td>6</td>\n",
       "    </tr>\n",
       "    <tr>\n",
       "      <th>3</th>\n",
       "      <td>D</td>\n",
       "      <td>2</td>\n",
       "    </tr>\n",
       "    <tr>\n",
       "      <th>4</th>\n",
       "      <td>E</td>\n",
       "      <td>2</td>\n",
       "    </tr>\n",
       "  </tbody>\n",
       "</table>\n",
       "</div>"
      ],
      "text/plain": [
       "  group_id  group_size\n",
       "0        A           2\n",
       "1        B           4\n",
       "2        C           6\n",
       "3        D           2\n",
       "4        E           2"
      ]
     },
     "execution_count": 13,
     "metadata": {},
     "output_type": "execute_result"
    }
   ],
   "source": [
    "data_resto.head()"
   ]
  },
  {
   "cell_type": "code",
   "execution_count": 14,
   "id": "e2febb3a-8687-42db-abdd-dec6ffab0aa4",
   "metadata": {},
   "outputs": [
    {
     "data": {
      "image/png": "[encoded data removed]",
      "text/plain": [
       "<Figure size 640x480 with 1 Axes>"
      ]
     },
     "metadata": {},
     "output_type": "display_data"
    }
   ],
   "source": [
    "plt.hist(data_resto['group_size'], bins=[2, 3, 4, 5, 6], color='blue')\n",
    "plt.grid(True, color='black')\n",
    "plt.show()"
   ]
  },
  {
   "cell_type": "code",
   "execution_count": 17,
   "id": "e0e21cce-c223-4a3e-a1db-5473c3eb9df8",
   "metadata": {},
   "outputs": [
    {
     "name": "stdout",
     "output_type": "stream",
     "text": [
      "   group_size  prob\n",
      "0           0   0.2\n",
      "1           1   0.4\n",
      "2           2   0.6\n",
      "3           3   0.2\n",
      "4           4   0.2\n",
      "5           5   0.2\n",
      "6           6   0.3\n",
      "7           7   0.2\n",
      "8           8   0.4\n",
      "9           9   0.2\n",
      "12.200000000000001\n",
      "1.4999999999999998\n"
     ]
    }
   ],
   "source": [
    "# Create probability distribution\n",
    "size_dist = data_resto['group_size'] / data_resto.shape[0]\n",
    "\n",
    "# Reset index and rename columns\n",
    "size_dist = size_dist.reset_index()\n",
    "size_dist.columns = ['group_size', 'prob']\n",
    "\n",
    "print(size_dist)\n",
    "\n",
    "# Calculate expected value\n",
    "expected_value = (size_dist['group_size'] * size_dist['prob']).sum()\n",
    "print(expected_value)\n",
    "\n",
    "# Subset groups of size 4 or more\n",
    "groups_4_or_more = size_dist[size_dist['group_size'] >= 4]\n",
    "\n",
    "# Sum the probabilities of groups_4_or_more\n",
    "prob_4_or_more = groups_4_or_more['prob'].sum()\n",
    "print(prob_4_or_more)"
   ]
  },
  {
   "cell_type": "code",
   "execution_count": 40,
   "id": "b5490c83-d8c4-43d7-9b13-896eb34d0ec1",
   "metadata": {},
   "outputs": [
    {
     "name": "stdout",
     "output_type": "stream",
     "text": [
      "Probabilitas waktu tunggu untuk tidak lebih sama dengan 5 menit : 0.16129032258064516\n",
      "Probabilitas waktu tunggu untuk lebih 5 menit       : 0.8064516129032258\n",
      "Probabilitas waktu tunggu antara 10 hingga 20 menit : 0.3548387096774194\n"
     ]
    }
   ],
   "source": [
    "# Tentukan rentang waktu minimum dan maksimum\n",
    "time_range = np.arange(0, 31)  # dari 0 hingga 30 menit\n",
    "\n",
    "# Hitung probabilitas menunggu kurang dari 5 menit\n",
    "prob_no_more_than_5 = len(time_range[time_range < 5]) / len(time_range)\n",
    "print(f\"Probabilitas waktu tunggu untuk tidak lebih sama dengan 5 menit : {prob_no_more_than_5}\")\n",
    "\n",
    "# Hitung probabilitas menunggu lebih dari 5 menit\n",
    "prob_more_than_5 = len(time_range[time_range > 5]) / len(time_range)\n",
    "print(f\"Probabilitas waktu tunggu untuk lebih 5 menit       : {prob_more_than_5}\")\n",
    "\n",
    "# Hitung probabilitas menunggu antara 10 hingga 20 menit\n",
    "prob_between_10_and_20 = len(time_range[(time_range >= 10) & (time_range <= 20)]) / len(time_range)\n",
    "print(f\"Probabilitas waktu tunggu antara 10 hingga 20 menit : {prob_between_10_and_20}\")"
   ]
  },
  {
   "cell_type": "code",
   "execution_count": 41,
   "id": "21ceed57-d1b4-4cca-ba21-ec1f51780b65",
   "metadata": {},
   "outputs": [
    {
     "name": "stdout",
     "output_type": "stream",
     "text": [
      "Probabilitas waktu tunggu untuk tidak lebih sama dengan 5 menit : 0.16666666666666666\n",
      "Probabilitas waktu tunggu untuk lebih 5 menit        : 0.8333333333333334\n",
      "Probabilitas waktu tunggu antara 1o hingga 20 menit  : 0.3333333333333333\n"
     ]
    }
   ],
   "source": [
    "min = 0\n",
    "max = 30\n",
    "\n",
    "# Menghitung probabilitas waktu tunggu untuk tidak lebih sama dengan 5 menit\n",
    "prob_no_more_than_5= uniform.cdf(5, min, max)\n",
    "print(f\"Probabilitas waktu tunggu untuk tidak lebih sama dengan 5 menit : {prob_no_more_than_5}\")\n",
    "\n",
    "# Menghitung probabilitas waktu tunggu untuk lebih 5 menit\n",
    "prob_more_than_5 = 1 - uniform.cdf(5, min, max)\n",
    "print(f\"Probabilitas waktu tunggu untuk lebih 5 menit        : {prob_more_than_5}\")\n",
    "\n",
    "# Menghitung probabilitas waktu tunggu antara 10-20 menit\n",
    "prob_between_10_20 = uniform.cdf(20, min, max) - uniform.cdf(10, min, max)\n",
    "print(f\"Probabilitas waktu tunggu antara 1o hingga 20 menit  : {prob_between_10_20}\")"
   ]
  },
  {
   "cell_type": "code",
   "execution_count": 34,
   "id": "86fd8506-c30a-4acf-bca2-b4315188d411",
   "metadata": {},
   "outputs": [
    {
     "name": "stdout",
     "output_type": "stream",
     "text": [
      "[ 7.144097    0.97455866  3.72802787  5.11644319  8.70602482 24.69140099\n",
      " 23.98012075  3.19592668 25.1985306  17.89048629]\n"
     ]
    },
    {
     "data": {
      "image/png": "[encoded data removed]",
      "text/plain": [
       "<Figure size 640x480 with 1 Axes>"
      ]
     },
     "metadata": {},
     "output_type": "display_data"
    }
   ],
   "source": [
    "np.random.seed(334)\n",
    "\n",
    "min = 0\n",
    "max = 30\n",
    "\n",
    "wait = uniform.rvs(loc=min, scale=max, size=1000)\n",
    "print(wait[:10])\n",
    "\n",
    "plt.hist(wait, bins=10, color='blue')\n",
    "plt.title('Histogram of Wait Time between 0 and 30 mins')\n",
    "plt.grid(True, color='black')"
   ]
  },
  {
   "cell_type": "code",
   "execution_count": 42,
   "id": "7aa300f2-f272-4b33-bd42-12e7b0dad125",
   "metadata": {},
   "outputs": [
    {
     "name": "stdout",
     "output_type": "stream",
     "text": [
      "Probabilitas satu kesepakatan : 1\n",
      "Probabilitas satu minggu dengan 3 kesepakatan : 0\n",
      "Rata-rata kesepakatan : 0.8461538461538461\n"
     ]
    }
   ],
   "source": [
    "np.random.seed(10)\n",
    "\n",
    "# Simulasi untuk satu kesepakatan dengan probabilitas 0.3\n",
    "single_deal = np.random.binomial(1, 0.3)\n",
    "print(f\"Probabilitas satu kesepakatan : {single_deal}\")\n",
    "\n",
    "# Simulasi untuk satu minggu dengan 3 kesepakatan\n",
    "one_week_deals = np.random.binomial(3, 0.3)\n",
    "print(f\"Probabilitas satu minggu dengan 3 kesepakatan : {one_week_deals}\")\n",
    "\n",
    "# Simulasi untuk 52 minggu dengan 3 kesepakatan per minggu\n",
    "weekly_deals = np.random.binomial(3, 0.3, 52)\n",
    "\n",
    "# Hitung rata-rata kesepakatan yang berhasil per minggu\n",
    "average_deals_per_week = weekly_deals.mean()\n",
    "print(f\"Rata-rata kesepakatan : {average_deals_per_week}\")"
   ]
  },
  {
   "cell_type": "code",
   "execution_count": 43,
   "id": "250636dd-993c-4dc8-b79d-73ce8e9f1be5",
   "metadata": {},
   "outputs": [
    {
     "name": "stdout",
     "output_type": "stream",
     "text": [
      "0.027\n",
      "0.7839999999999997\n",
      "0.21599999999999991\n"
     ]
    }
   ],
   "source": [
    "# Menghitung peluang menutup tepat 3 dari 3 kesepakatan\n",
    "prob_all_closed = binom.pmf(k=3, n=3, p=0.3)\n",
    "print(prob_all_closed)\n",
    "\n",
    "# Menghitung peluang menutup maksimal 1 kesepakatan dari 3\n",
    "prob_max_1 = sum(binom.pmf(k, 3, 0.3) for k in range(2))\n",
    "print(prob_max_1)\n",
    "\n",
    "# Menghitung peluang menutup lebih dari 1 kesepakatan dari 3\n",
    "prob_more_than_1 = sum(binom.pmf(k, 3, 0.3) for k in range(2, 4))\n",
    "print(prob_more_than_1)"
   ]
  },
  {
   "cell_type": "code",
   "execution_count": 44,
   "id": "027aa03a-e028-4189-8947-13fb799545f2",
   "metadata": {},
   "outputs": [
    {
     "name": "stdout",
     "output_type": "stream",
     "text": [
      "Expected wins with 30% win rate: 0.8999999999999999\n",
      "Expected wins with 25% win rate: 0.75\n",
      "Expected wins with 35% win rate: 1.0499999999999998\n"
     ]
    }
   ],
   "source": [
    "win_rates = [0.3, 0.25, 0.35]\n",
    "games_played = 3\n",
    "\n",
    "# Menghitung jumlah kemenangan yang diharapkan untuk setiap persentase kemenangan\n",
    "expected_wins = [games_played * rate for rate in win_rates]\n",
    "\n",
    "# Cetak hasil\n",
    "for rate, win in zip(win_rates, expected_wins):\n",
    "    print(f\"Expected wins with {int(rate * 100)}% win rate: {win}\")"
   ]
  },
  {
   "cell_type": "code",
   "execution_count": null,
   "id": "de03cc2b-fe92-45c5-8e6d-56c4f27fb5d7",
   "metadata": {},
   "outputs": [],
   "source": []
  }
 ],
 "metadata": {
  "kernelspec": {
   "display_name": "Python 3 (ipykernel)",
   "language": "python",
   "name": "python3"
  },
  "language_info": {
   "codemirror_mode": {
    "name": "ipython",
    "version": 3
   },
   "file_extension": ".py",
   "mimetype": "text/x-python",
   "name": "python",
   "nbconvert_exporter": "python",
   "pygments_lexer": "ipython3",
   "version": "3.12.2"
  }
 },
 "nbformat": 4,
 "nbformat_minor": 5
}
